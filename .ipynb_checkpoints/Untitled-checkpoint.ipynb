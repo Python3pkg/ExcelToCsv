{
 "cells": [
  {
   "cell_type": "code",
   "execution_count": 41,
   "metadata": {
    "collapsed": false
   },
   "outputs": [
    {
     "name": "stdout",
     "output_type": "stream",
     "text": [
      "running\n",
      "done\n"
     ]
    }
   ],
   "source": [
    "#! python\n",
    "import xlrd\n",
    "import csv\n",
    "\n",
    "file = r'C:\\Users\\walkews\\Downloads\\Reman Warranty Jan 31 2017.xls'\n",
    "output_file = r'C:\\Users\\walkews\\Downloads\\Reman Warranty Jan 31 2017.csv'\n",
    "print('running')\n",
    "with xlrd.open_workbook(file) as wb:\n",
    "    sh = wb.sheet_by_index(2)  # or wb.sheet_by_name('name_of_the_sheet_here')\n",
    "    with open(output_file, 'w',encoding='utf8',newline='') as f:\n",
    "        c = csv.writer(f)\n",
    "        for r in range(1, sh.nrows):\n",
    "#             values = [value.encode('utf-8') for value in sh.row_values(r)]\n",
    "            c.writerow(sh.row_values(r))\n",
    "print('done')"
   ]
  },
  {
   "cell_type": "code",
   "execution_count": 47,
   "metadata": {
    "collapsed": true
   },
   "outputs": [],
   "source": [
    "sheet_choice = ''"
   ]
  },
  {
   "cell_type": "code",
   "execution_count": null,
   "metadata": {
    "collapsed": true
   },
   "outputs": [],
   "source": []
  },
  {
   "cell_type": "code",
   "execution_count": 46,
   "metadata": {
    "collapsed": false
   },
   "outputs": [
    {
     "name": "stdout",
     "output_type": "stream",
     "text": [
      "<enumerate object at 0x000000000DC71678>\n"
     ]
    }
   ],
   "source": [
    "\n",
    "for i, val in enumerate(wb.sheet_names()):\n",
    "    "
   ]
  },
  {
   "cell_type": "code",
   "execution_count": null,
   "metadata": {
    "collapsed": true
   },
   "outputs": [],
   "source": []
  }
 ],
 "metadata": {
  "kernelspec": {
   "display_name": "Python [conda root]",
   "language": "python",
   "name": "conda-root-py"
  }
 },
 "nbformat": 4,
 "nbformat_minor": 2
}
